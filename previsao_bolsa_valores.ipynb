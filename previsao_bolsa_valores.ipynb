{
  "nbformat": 4,
  "nbformat_minor": 0,
  "metadata": {
    "colab": {
      "provenance": []
    },
    "kernelspec": {
      "name": "python3",
      "display_name": "Python 3"
    },
    "language_info": {
      "name": "python"
    }
  },
  "cells": [
    {
      "cell_type": "code",
      "execution_count": null,
      "metadata": {
        "id": "HN9LZ-u_b7_h"
      },
      "outputs": [],
      "source": [
        "from keras.models import Sequential\n",
        "from keras.layers import Dense, Dropout, LSTM\n",
        "from sklearn.preprocessing import MinMaxScaler\n",
        "import numpy as np\n",
        "import pandas as pd\n",
        "import matplotlib.pyplot as plt\n"
      ]
    },
    {
      "cell_type": "code",
      "source": [
        "base = pd.read_csv('petr4_treinamento.csv')"
      ],
      "metadata": {
        "id": "s3npKocySafU"
      },
      "execution_count": null,
      "outputs": []
    },
    {
      "cell_type": "code",
      "source": [
        "base = base.dropna()"
      ],
      "metadata": {
        "id": "swyYPFNnSgqc"
      },
      "execution_count": null,
      "outputs": []
    },
    {
      "cell_type": "code",
      "source": [
        "base.iloc[:,1:2]"
      ],
      "metadata": {
        "colab": {
          "base_uri": "https://localhost:8080/",
          "height": 424
        },
        "id": "ljkpIeBtL2ve",
        "outputId": "beee45aa-32c1-42ca-eb66-14aa612dadc0"
      },
      "execution_count": null,
      "outputs": [
        {
          "output_type": "execute_result",
          "data": {
            "text/plain": [
              "           Open\n",
              "0     19.990000\n",
              "1     19.809999\n",
              "2     20.330000\n",
              "3     20.480000\n",
              "4     20.110001\n",
              "...         ...\n",
              "1240  15.750000\n",
              "1241  15.750000\n",
              "1242  15.990000\n",
              "1243  16.100000\n",
              "1244  16.100000\n",
              "\n",
              "[1242 rows x 1 columns]"
            ],
            "text/html": [
              "\n",
              "\n",
              "  <div id=\"df-cc559558-b751-400e-b1ca-917b915707e6\">\n",
              "    <div class=\"colab-df-container\">\n",
              "      <div>\n",
              "<style scoped>\n",
              "    .dataframe tbody tr th:only-of-type {\n",
              "        vertical-align: middle;\n",
              "    }\n",
              "\n",
              "    .dataframe tbody tr th {\n",
              "        vertical-align: top;\n",
              "    }\n",
              "\n",
              "    .dataframe thead th {\n",
              "        text-align: right;\n",
              "    }\n",
              "</style>\n",
              "<table border=\"1\" class=\"dataframe\">\n",
              "  <thead>\n",
              "    <tr style=\"text-align: right;\">\n",
              "      <th></th>\n",
              "      <th>Open</th>\n",
              "    </tr>\n",
              "  </thead>\n",
              "  <tbody>\n",
              "    <tr>\n",
              "      <th>0</th>\n",
              "      <td>19.990000</td>\n",
              "    </tr>\n",
              "    <tr>\n",
              "      <th>1</th>\n",
              "      <td>19.809999</td>\n",
              "    </tr>\n",
              "    <tr>\n",
              "      <th>2</th>\n",
              "      <td>20.330000</td>\n",
              "    </tr>\n",
              "    <tr>\n",
              "      <th>3</th>\n",
              "      <td>20.480000</td>\n",
              "    </tr>\n",
              "    <tr>\n",
              "      <th>4</th>\n",
              "      <td>20.110001</td>\n",
              "    </tr>\n",
              "    <tr>\n",
              "      <th>...</th>\n",
              "      <td>...</td>\n",
              "    </tr>\n",
              "    <tr>\n",
              "      <th>1240</th>\n",
              "      <td>15.750000</td>\n",
              "    </tr>\n",
              "    <tr>\n",
              "      <th>1241</th>\n",
              "      <td>15.750000</td>\n",
              "    </tr>\n",
              "    <tr>\n",
              "      <th>1242</th>\n",
              "      <td>15.990000</td>\n",
              "    </tr>\n",
              "    <tr>\n",
              "      <th>1243</th>\n",
              "      <td>16.100000</td>\n",
              "    </tr>\n",
              "    <tr>\n",
              "      <th>1244</th>\n",
              "      <td>16.100000</td>\n",
              "    </tr>\n",
              "  </tbody>\n",
              "</table>\n",
              "<p>1242 rows × 1 columns</p>\n",
              "</div>\n",
              "      <button class=\"colab-df-convert\" onclick=\"convertToInteractive('df-cc559558-b751-400e-b1ca-917b915707e6')\"\n",
              "              title=\"Convert this dataframe to an interactive table.\"\n",
              "              style=\"display:none;\">\n",
              "\n",
              "  <svg xmlns=\"http://www.w3.org/2000/svg\" height=\"24px\"viewBox=\"0 0 24 24\"\n",
              "       width=\"24px\">\n",
              "    <path d=\"M0 0h24v24H0V0z\" fill=\"none\"/>\n",
              "    <path d=\"M18.56 5.44l.94 2.06.94-2.06 2.06-.94-2.06-.94-.94-2.06-.94 2.06-2.06.94zm-11 1L8.5 8.5l.94-2.06 2.06-.94-2.06-.94L8.5 2.5l-.94 2.06-2.06.94zm10 10l.94 2.06.94-2.06 2.06-.94-2.06-.94-.94-2.06-.94 2.06-2.06.94z\"/><path d=\"M17.41 7.96l-1.37-1.37c-.4-.4-.92-.59-1.43-.59-.52 0-1.04.2-1.43.59L10.3 9.45l-7.72 7.72c-.78.78-.78 2.05 0 2.83L4 21.41c.39.39.9.59 1.41.59.51 0 1.02-.2 1.41-.59l7.78-7.78 2.81-2.81c.8-.78.8-2.07 0-2.86zM5.41 20L4 18.59l7.72-7.72 1.47 1.35L5.41 20z\"/>\n",
              "  </svg>\n",
              "      </button>\n",
              "\n",
              "\n",
              "\n",
              "    <div id=\"df-8e00f1f9-67bd-4d5f-b622-a1f53afbc571\">\n",
              "      <button class=\"colab-df-quickchart\" onclick=\"quickchart('df-8e00f1f9-67bd-4d5f-b622-a1f53afbc571')\"\n",
              "              title=\"Suggest charts.\"\n",
              "              style=\"display:none;\">\n",
              "\n",
              "<svg xmlns=\"http://www.w3.org/2000/svg\" height=\"24px\"viewBox=\"0 0 24 24\"\n",
              "     width=\"24px\">\n",
              "    <g>\n",
              "        <path d=\"M19 3H5c-1.1 0-2 .9-2 2v14c0 1.1.9 2 2 2h14c1.1 0 2-.9 2-2V5c0-1.1-.9-2-2-2zM9 17H7v-7h2v7zm4 0h-2V7h2v10zm4 0h-2v-4h2v4z\"/>\n",
              "    </g>\n",
              "</svg>\n",
              "      </button>\n",
              "    </div>\n",
              "\n",
              "<style>\n",
              "  .colab-df-quickchart {\n",
              "    background-color: #E8F0FE;\n",
              "    border: none;\n",
              "    border-radius: 50%;\n",
              "    cursor: pointer;\n",
              "    display: none;\n",
              "    fill: #1967D2;\n",
              "    height: 32px;\n",
              "    padding: 0 0 0 0;\n",
              "    width: 32px;\n",
              "  }\n",
              "\n",
              "  .colab-df-quickchart:hover {\n",
              "    background-color: #E2EBFA;\n",
              "    box-shadow: 0px 1px 2px rgba(60, 64, 67, 0.3), 0px 1px 3px 1px rgba(60, 64, 67, 0.15);\n",
              "    fill: #174EA6;\n",
              "  }\n",
              "\n",
              "  [theme=dark] .colab-df-quickchart {\n",
              "    background-color: #3B4455;\n",
              "    fill: #D2E3FC;\n",
              "  }\n",
              "\n",
              "  [theme=dark] .colab-df-quickchart:hover {\n",
              "    background-color: #434B5C;\n",
              "    box-shadow: 0px 1px 3px 1px rgba(0, 0, 0, 0.15);\n",
              "    filter: drop-shadow(0px 1px 2px rgba(0, 0, 0, 0.3));\n",
              "    fill: #FFFFFF;\n",
              "  }\n",
              "</style>\n",
              "\n",
              "    <script>\n",
              "      async function quickchart(key) {\n",
              "        const containerElement = document.querySelector('#' + key);\n",
              "        const charts = await google.colab.kernel.invokeFunction(\n",
              "            'suggestCharts', [key], {});\n",
              "      }\n",
              "    </script>\n",
              "\n",
              "      <script>\n",
              "\n",
              "function displayQuickchartButton(domScope) {\n",
              "  let quickchartButtonEl =\n",
              "    domScope.querySelector('#df-8e00f1f9-67bd-4d5f-b622-a1f53afbc571 button.colab-df-quickchart');\n",
              "  quickchartButtonEl.style.display =\n",
              "    google.colab.kernel.accessAllowed ? 'block' : 'none';\n",
              "}\n",
              "\n",
              "        displayQuickchartButton(document);\n",
              "      </script>\n",
              "      <style>\n",
              "    .colab-df-container {\n",
              "      display:flex;\n",
              "      flex-wrap:wrap;\n",
              "      gap: 12px;\n",
              "    }\n",
              "\n",
              "    .colab-df-convert {\n",
              "      background-color: #E8F0FE;\n",
              "      border: none;\n",
              "      border-radius: 50%;\n",
              "      cursor: pointer;\n",
              "      display: none;\n",
              "      fill: #1967D2;\n",
              "      height: 32px;\n",
              "      padding: 0 0 0 0;\n",
              "      width: 32px;\n",
              "    }\n",
              "\n",
              "    .colab-df-convert:hover {\n",
              "      background-color: #E2EBFA;\n",
              "      box-shadow: 0px 1px 2px rgba(60, 64, 67, 0.3), 0px 1px 3px 1px rgba(60, 64, 67, 0.15);\n",
              "      fill: #174EA6;\n",
              "    }\n",
              "\n",
              "    [theme=dark] .colab-df-convert {\n",
              "      background-color: #3B4455;\n",
              "      fill: #D2E3FC;\n",
              "    }\n",
              "\n",
              "    [theme=dark] .colab-df-convert:hover {\n",
              "      background-color: #434B5C;\n",
              "      box-shadow: 0px 1px 3px 1px rgba(0, 0, 0, 0.15);\n",
              "      filter: drop-shadow(0px 1px 2px rgba(0, 0, 0, 0.3));\n",
              "      fill: #FFFFFF;\n",
              "    }\n",
              "  </style>\n",
              "\n",
              "      <script>\n",
              "        const buttonEl =\n",
              "          document.querySelector('#df-cc559558-b751-400e-b1ca-917b915707e6 button.colab-df-convert');\n",
              "        buttonEl.style.display =\n",
              "          google.colab.kernel.accessAllowed ? 'block' : 'none';\n",
              "\n",
              "        async function convertToInteractive(key) {\n",
              "          const element = document.querySelector('#df-cc559558-b751-400e-b1ca-917b915707e6');\n",
              "          const dataTable =\n",
              "            await google.colab.kernel.invokeFunction('convertToInteractive',\n",
              "                                                     [key], {});\n",
              "          if (!dataTable) return;\n",
              "\n",
              "          const docLinkHtml = 'Like what you see? Visit the ' +\n",
              "            '<a target=\"_blank\" href=https://colab.research.google.com/notebooks/data_table.ipynb>data table notebook</a>'\n",
              "            + ' to learn more about interactive tables.';\n",
              "          element.innerHTML = '';\n",
              "          dataTable['output_type'] = 'display_data';\n",
              "          await google.colab.output.renderOutput(dataTable, element);\n",
              "          const docLink = document.createElement('div');\n",
              "          docLink.innerHTML = docLinkHtml;\n",
              "          element.appendChild(docLink);\n",
              "        }\n",
              "      </script>\n",
              "    </div>\n",
              "  </div>\n"
            ]
          },
          "metadata": {},
          "execution_count": 57
        }
      ]
    },
    {
      "cell_type": "code",
      "source": [
        "base_treinamento = base.iloc[:,1:2].values"
      ],
      "metadata": {
        "id": "CLJ_huO9Sha0"
      },
      "execution_count": null,
      "outputs": []
    },
    {
      "cell_type": "code",
      "source": [
        "#muitas camadas então é preciso normalizam (0-1)\n",
        "normalizador = MinMaxScaler(feature_range=(0,1))\n",
        "base_treinamento_normalizada = normalizador.fit_transform(base_treinamento)"
      ],
      "metadata": {
        "id": "bbvll3x7S3xk"
      },
      "execution_count": null,
      "outputs": []
    },
    {
      "cell_type": "markdown",
      "source": [
        "#Estrutura da base de dados para a previsão temporal"
      ],
      "metadata": {
        "id": "G7o3G72FTXV_"
      }
    },
    {
      "cell_type": "code",
      "source": [
        "previsores = []\n",
        "preco_real = []\n",
        "for i in range(90, 1242):\n",
        "  previsores.append(base_treinamento_normalizada[i-90:i, 0])\n",
        "  preco_real.append(base_treinamento_normalizada[i,0])\n",
        "previsores, preco_real = np.array(previsores), np.array(preco_real)"
      ],
      "metadata": {
        "id": "bW6b5CFXTbE4"
      },
      "execution_count": null,
      "outputs": []
    },
    {
      "cell_type": "markdown",
      "source": [
        "Formato do input_shape : (batch_size, timesteps, input_dim)"
      ],
      "metadata": {
        "id": "DE0eEv4W7bJn"
      }
    },
    {
      "cell_type": "code",
      "source": [
        "previsores = np.reshape(previsores, (previsores.shape[0], previsores.shape[1],1))"
      ],
      "metadata": {
        "id": "oN9ySHEw6v0Z"
      },
      "execution_count": null,
      "outputs": []
    },
    {
      "cell_type": "code",
      "source": [
        "regressor = Sequential()\n",
        "regressor.add(LSTM(units = 100, return_sequences = True, input_shape=(previsores.shape[1],1))) #units: numero de celulas de memoria (deve ser grande)\n",
        "regressor.add(Dropout(0.3))\n",
        "\n",
        "regressor.add(LSTM(units = 50, return_sequences = True))\n",
        "regressor.add(Dropout(0.3))\n",
        "\n",
        "regressor.add(LSTM(units = 50, return_sequences = True))\n",
        "regressor.add(Dropout(0.3))\n",
        "\n",
        "regressor.add(LSTM(units = 50))\n",
        "regressor.add(Dropout(0.3))\n",
        "\n",
        "regressor.add(Dense(units = 1, activation ='linear')) #regressão\n",
        "\n",
        "regressor.compile(optimizer = 'rmsprop', loss= 'mean_squared_error',\n",
        "                  metrics = ['mean_absolute_error'])\n",
        "\n",
        "regressor.fit(previsores, preco_real, epochs = 100, batch_size=32)"
      ],
      "metadata": {
        "colab": {
          "base_uri": "https://localhost:8080/"
        },
        "id": "Eth-rguF8TCA",
        "outputId": "9fa92ab2-3f80-459a-e01b-3445d8e116cb"
      },
      "execution_count": null,
      "outputs": [
        {
          "output_type": "stream",
          "name": "stdout",
          "text": [
            "Epoch 1/100\n",
            "36/36 [==============================] - 18s 246ms/step - loss: 0.0304 - mean_absolute_error: 0.1264\n",
            "Epoch 2/100\n",
            "36/36 [==============================] - 7s 182ms/step - loss: 0.0158 - mean_absolute_error: 0.0976\n",
            "Epoch 3/100\n",
            "36/36 [==============================] - 8s 210ms/step - loss: 0.0124 - mean_absolute_error: 0.0858\n",
            "Epoch 4/100\n",
            "36/36 [==============================] - 7s 185ms/step - loss: 0.0118 - mean_absolute_error: 0.0846\n",
            "Epoch 5/100\n",
            "36/36 [==============================] - 7s 203ms/step - loss: 0.0109 - mean_absolute_error: 0.0817\n",
            "Epoch 6/100\n",
            "36/36 [==============================] - 7s 205ms/step - loss: 0.0090 - mean_absolute_error: 0.0738\n",
            "Epoch 7/100\n",
            "36/36 [==============================] - 7s 179ms/step - loss: 0.0079 - mean_absolute_error: 0.0683\n",
            "Epoch 8/100\n",
            "36/36 [==============================] - 8s 210ms/step - loss: 0.0081 - mean_absolute_error: 0.0703\n",
            "Epoch 9/100\n",
            "36/36 [==============================] - 6s 179ms/step - loss: 0.0084 - mean_absolute_error: 0.0710\n",
            "Epoch 10/100\n",
            "36/36 [==============================] - 7s 208ms/step - loss: 0.0073 - mean_absolute_error: 0.0654\n",
            "Epoch 11/100\n",
            "36/36 [==============================] - 7s 183ms/step - loss: 0.0065 - mean_absolute_error: 0.0623\n",
            "Epoch 12/100\n",
            "36/36 [==============================] - 8s 209ms/step - loss: 0.0072 - mean_absolute_error: 0.0645\n",
            "Epoch 13/100\n",
            "36/36 [==============================] - 7s 183ms/step - loss: 0.0066 - mean_absolute_error: 0.0626\n",
            "Epoch 14/100\n",
            "36/36 [==============================] - 7s 206ms/step - loss: 0.0062 - mean_absolute_error: 0.0595\n",
            "Epoch 15/100\n",
            "36/36 [==============================] - 7s 205ms/step - loss: 0.0056 - mean_absolute_error: 0.0569\n",
            "Epoch 16/100\n",
            "36/36 [==============================] - 7s 195ms/step - loss: 0.0058 - mean_absolute_error: 0.0577\n",
            "Epoch 17/100\n",
            "36/36 [==============================] - 9s 259ms/step - loss: 0.0055 - mean_absolute_error: 0.0561\n",
            "Epoch 18/100\n",
            "36/36 [==============================] - 7s 197ms/step - loss: 0.0056 - mean_absolute_error: 0.0573\n",
            "Epoch 19/100\n",
            "36/36 [==============================] - 8s 226ms/step - loss: 0.0053 - mean_absolute_error: 0.0548\n",
            "Epoch 20/100\n",
            "36/36 [==============================] - 8s 212ms/step - loss: 0.0047 - mean_absolute_error: 0.0521\n",
            "Epoch 21/100\n",
            "36/36 [==============================] - 7s 202ms/step - loss: 0.0048 - mean_absolute_error: 0.0529\n",
            "Epoch 22/100\n",
            "36/36 [==============================] - 7s 209ms/step - loss: 0.0046 - mean_absolute_error: 0.0518\n",
            "Epoch 23/100\n",
            "36/36 [==============================] - 7s 184ms/step - loss: 0.0044 - mean_absolute_error: 0.0511\n",
            "Epoch 24/100\n",
            "36/36 [==============================] - 8s 221ms/step - loss: 0.0042 - mean_absolute_error: 0.0494\n",
            "Epoch 25/100\n",
            "36/36 [==============================] - 7s 187ms/step - loss: 0.0045 - mean_absolute_error: 0.0501\n",
            "Epoch 26/100\n",
            "36/36 [==============================] - 8s 233ms/step - loss: 0.0040 - mean_absolute_error: 0.0476\n",
            "Epoch 27/100\n",
            "36/36 [==============================] - 7s 200ms/step - loss: 0.0044 - mean_absolute_error: 0.0508\n",
            "Epoch 28/100\n",
            "36/36 [==============================] - 7s 195ms/step - loss: 0.0041 - mean_absolute_error: 0.0496\n",
            "Epoch 29/100\n",
            "36/36 [==============================] - 8s 210ms/step - loss: 0.0038 - mean_absolute_error: 0.0472\n",
            "Epoch 30/100\n",
            "36/36 [==============================] - 6s 180ms/step - loss: 0.0036 - mean_absolute_error: 0.0464\n",
            "Epoch 31/100\n",
            "36/36 [==============================] - 8s 210ms/step - loss: 0.0037 - mean_absolute_error: 0.0461\n",
            "Epoch 32/100\n",
            "36/36 [==============================] - 6s 180ms/step - loss: 0.0039 - mean_absolute_error: 0.0466\n",
            "Epoch 33/100\n",
            "36/36 [==============================] - 8s 211ms/step - loss: 0.0039 - mean_absolute_error: 0.0470\n",
            "Epoch 34/100\n",
            "36/36 [==============================] - 7s 183ms/step - loss: 0.0036 - mean_absolute_error: 0.0451\n",
            "Epoch 35/100\n",
            "36/36 [==============================] - 8s 211ms/step - loss: 0.0035 - mean_absolute_error: 0.0456\n",
            "Epoch 36/100\n",
            "36/36 [==============================] - 7s 191ms/step - loss: 0.0033 - mean_absolute_error: 0.0444\n",
            "Epoch 37/100\n",
            "36/36 [==============================] - 8s 214ms/step - loss: 0.0034 - mean_absolute_error: 0.0436\n",
            "Epoch 38/100\n",
            "36/36 [==============================] - 8s 221ms/step - loss: 0.0031 - mean_absolute_error: 0.0429\n",
            "Epoch 39/100\n",
            "36/36 [==============================] - 7s 182ms/step - loss: 0.0032 - mean_absolute_error: 0.0431\n",
            "Epoch 40/100\n",
            "36/36 [==============================] - 8s 210ms/step - loss: 0.0030 - mean_absolute_error: 0.0423\n",
            "Epoch 41/100\n",
            "36/36 [==============================] - 7s 181ms/step - loss: 0.0032 - mean_absolute_error: 0.0424\n",
            "Epoch 42/100\n",
            "36/36 [==============================] - 8s 210ms/step - loss: 0.0031 - mean_absolute_error: 0.0416\n",
            "Epoch 43/100\n",
            "36/36 [==============================] - 7s 187ms/step - loss: 0.0029 - mean_absolute_error: 0.0408\n",
            "Epoch 44/100\n",
            "36/36 [==============================] - 7s 201ms/step - loss: 0.0033 - mean_absolute_error: 0.0435\n",
            "Epoch 45/100\n",
            "36/36 [==============================] - 7s 208ms/step - loss: 0.0028 - mean_absolute_error: 0.0406\n",
            "Epoch 46/100\n",
            "36/36 [==============================] - 7s 180ms/step - loss: 0.0029 - mean_absolute_error: 0.0414\n",
            "Epoch 47/100\n",
            "36/36 [==============================] - 8s 210ms/step - loss: 0.0028 - mean_absolute_error: 0.0398\n",
            "Epoch 48/100\n",
            "36/36 [==============================] - 7s 189ms/step - loss: 0.0029 - mean_absolute_error: 0.0415\n",
            "Epoch 49/100\n",
            "36/36 [==============================] - 8s 210ms/step - loss: 0.0026 - mean_absolute_error: 0.0389\n",
            "Epoch 50/100\n",
            "36/36 [==============================] - 7s 181ms/step - loss: 0.0027 - mean_absolute_error: 0.0387\n",
            "Epoch 51/100\n",
            "36/36 [==============================] - 8s 210ms/step - loss: 0.0027 - mean_absolute_error: 0.0401\n",
            "Epoch 52/100\n",
            "36/36 [==============================] - 7s 189ms/step - loss: 0.0027 - mean_absolute_error: 0.0389\n",
            "Epoch 53/100\n",
            "36/36 [==============================] - 7s 199ms/step - loss: 0.0026 - mean_absolute_error: 0.0386\n",
            "Epoch 54/100\n",
            "36/36 [==============================] - 8s 210ms/step - loss: 0.0025 - mean_absolute_error: 0.0387\n",
            "Epoch 55/100\n",
            "36/36 [==============================] - 7s 186ms/step - loss: 0.0026 - mean_absolute_error: 0.0390\n",
            "Epoch 56/100\n",
            "36/36 [==============================] - 7s 209ms/step - loss: 0.0022 - mean_absolute_error: 0.0364\n",
            "Epoch 57/100\n",
            "36/36 [==============================] - 7s 181ms/step - loss: 0.0026 - mean_absolute_error: 0.0387\n",
            "Epoch 58/100\n",
            "36/36 [==============================] - 8s 224ms/step - loss: 0.0023 - mean_absolute_error: 0.0375\n",
            "Epoch 59/100\n",
            "36/36 [==============================] - 7s 202ms/step - loss: 0.0024 - mean_absolute_error: 0.0373\n",
            "Epoch 60/100\n",
            "36/36 [==============================] - 7s 201ms/step - loss: 0.0025 - mean_absolute_error: 0.0391\n",
            "Epoch 61/100\n",
            "36/36 [==============================] - 7s 208ms/step - loss: 0.0023 - mean_absolute_error: 0.0364\n",
            "Epoch 62/100\n",
            "36/36 [==============================] - 6s 177ms/step - loss: 0.0023 - mean_absolute_error: 0.0358\n",
            "Epoch 63/100\n",
            "36/36 [==============================] - 7s 209ms/step - loss: 0.0023 - mean_absolute_error: 0.0364\n",
            "Epoch 64/100\n",
            "36/36 [==============================] - 6s 180ms/step - loss: 0.0024 - mean_absolute_error: 0.0374\n",
            "Epoch 65/100\n",
            "36/36 [==============================] - 8s 210ms/step - loss: 0.0024 - mean_absolute_error: 0.0375\n",
            "Epoch 66/100\n",
            "36/36 [==============================] - 7s 182ms/step - loss: 0.0021 - mean_absolute_error: 0.0347\n",
            "Epoch 67/100\n",
            "36/36 [==============================] - 8s 211ms/step - loss: 0.0024 - mean_absolute_error: 0.0369\n",
            "Epoch 68/100\n",
            "36/36 [==============================] - 7s 184ms/step - loss: 0.0023 - mean_absolute_error: 0.0366\n",
            "Epoch 69/100\n",
            "36/36 [==============================] - 7s 205ms/step - loss: 0.0024 - mean_absolute_error: 0.0365\n",
            "Epoch 70/100\n",
            "36/36 [==============================] - 7s 208ms/step - loss: 0.0020 - mean_absolute_error: 0.0338\n",
            "Epoch 71/100\n",
            "36/36 [==============================] - 7s 181ms/step - loss: 0.0024 - mean_absolute_error: 0.0363\n",
            "Epoch 72/100\n",
            "36/36 [==============================] - 8s 211ms/step - loss: 0.0021 - mean_absolute_error: 0.0350\n",
            "Epoch 73/100\n",
            "36/36 [==============================] - 6s 179ms/step - loss: 0.0022 - mean_absolute_error: 0.0358\n",
            "Epoch 74/100\n",
            "36/36 [==============================] - 8s 211ms/step - loss: 0.0021 - mean_absolute_error: 0.0350\n",
            "Epoch 75/100\n",
            "36/36 [==============================] - 7s 180ms/step - loss: 0.0022 - mean_absolute_error: 0.0352\n",
            "Epoch 76/100\n",
            "36/36 [==============================] - 8s 210ms/step - loss: 0.0020 - mean_absolute_error: 0.0338\n",
            "Epoch 77/100\n",
            "36/36 [==============================] - 7s 183ms/step - loss: 0.0020 - mean_absolute_error: 0.0345\n",
            "Epoch 78/100\n",
            "36/36 [==============================] - 7s 206ms/step - loss: 0.0021 - mean_absolute_error: 0.0345\n",
            "Epoch 79/100\n",
            "36/36 [==============================] - 7s 207ms/step - loss: 0.0022 - mean_absolute_error: 0.0353\n",
            "Epoch 80/100\n",
            "36/36 [==============================] - 8s 213ms/step - loss: 0.0019 - mean_absolute_error: 0.0334\n",
            "Epoch 81/100\n",
            "36/36 [==============================] - 8s 211ms/step - loss: 0.0020 - mean_absolute_error: 0.0337\n",
            "Epoch 82/100\n",
            "36/36 [==============================] - 7s 183ms/step - loss: 0.0021 - mean_absolute_error: 0.0346\n",
            "Epoch 83/100\n",
            "36/36 [==============================] - 8s 209ms/step - loss: 0.0019 - mean_absolute_error: 0.0334\n",
            "Epoch 84/100\n",
            "36/36 [==============================] - 7s 181ms/step - loss: 0.0020 - mean_absolute_error: 0.0337\n",
            "Epoch 85/100\n",
            "36/36 [==============================] - 8s 212ms/step - loss: 0.0020 - mean_absolute_error: 0.0339\n",
            "Epoch 86/100\n",
            "36/36 [==============================] - 7s 191ms/step - loss: 0.0020 - mean_absolute_error: 0.0338\n",
            "Epoch 87/100\n",
            "36/36 [==============================] - 7s 197ms/step - loss: 0.0019 - mean_absolute_error: 0.0325\n",
            "Epoch 88/100\n",
            "36/36 [==============================] - 8s 210ms/step - loss: 0.0019 - mean_absolute_error: 0.0326\n",
            "Epoch 89/100\n",
            "36/36 [==============================] - 7s 183ms/step - loss: 0.0018 - mean_absolute_error: 0.0328\n",
            "Epoch 90/100\n",
            "36/36 [==============================] - 8s 210ms/step - loss: 0.0020 - mean_absolute_error: 0.0334\n",
            "Epoch 91/100\n",
            "36/36 [==============================] - 7s 182ms/step - loss: 0.0020 - mean_absolute_error: 0.0328\n",
            "Epoch 92/100\n",
            "36/36 [==============================] - 7s 208ms/step - loss: 0.0019 - mean_absolute_error: 0.0330\n",
            "Epoch 93/100\n",
            "36/36 [==============================] - 7s 180ms/step - loss: 0.0020 - mean_absolute_error: 0.0340\n",
            "Epoch 94/100\n",
            "36/36 [==============================] - 8s 211ms/step - loss: 0.0019 - mean_absolute_error: 0.0324\n",
            "Epoch 95/100\n",
            "36/36 [==============================] - 7s 187ms/step - loss: 0.0018 - mean_absolute_error: 0.0327\n",
            "Epoch 96/100\n",
            "36/36 [==============================] - 7s 200ms/step - loss: 0.0019 - mean_absolute_error: 0.0325\n",
            "Epoch 97/100\n",
            "36/36 [==============================] - 7s 207ms/step - loss: 0.0019 - mean_absolute_error: 0.0325\n",
            "Epoch 98/100\n",
            "36/36 [==============================] - 7s 182ms/step - loss: 0.0020 - mean_absolute_error: 0.0334\n",
            "Epoch 99/100\n",
            "36/36 [==============================] - 8s 211ms/step - loss: 0.0020 - mean_absolute_error: 0.0333\n",
            "Epoch 100/100\n",
            "36/36 [==============================] - 6s 179ms/step - loss: 0.0018 - mean_absolute_error: 0.0321\n"
          ]
        },
        {
          "output_type": "execute_result",
          "data": {
            "text/plain": [
              "<keras.callbacks.History at 0x7e2affd37430>"
            ]
          },
          "metadata": {},
          "execution_count": 45
        }
      ]
    },
    {
      "cell_type": "code",
      "source": [
        "base_teste = pd.read_csv('/content/petr4_teste.csv')\n",
        "preco_real_teste = base_teste.iloc[:, 1:2].values\n",
        "base_completa = pd.concat((base['Open'], base_teste['Open']), axis = 0)"
      ],
      "metadata": {
        "id": "UL4djNdz-aSh"
      },
      "execution_count": null,
      "outputs": []
    },
    {
      "cell_type": "code",
      "source": [
        "entradas = base_completa[len(base_completa) - len(base_teste) - 90:].values #pegando apenas os dados que estao relacionados com o periodo que queremos prever"
      ],
      "metadata": {
        "id": "cPzp8-Pn_FPr"
      },
      "execution_count": null,
      "outputs": []
    },
    {
      "cell_type": "code",
      "source": [
        "entradas = entradas.reshape(-1,1)\n",
        "entradas = normalizador.transform(entradas)"
      ],
      "metadata": {
        "id": "Lakm9kj4AAEF"
      },
      "execution_count": null,
      "outputs": []
    },
    {
      "cell_type": "code",
      "source": [
        "X_teste = []\n",
        "for i in range(90, 112):\n",
        "  X_teste.append(entradas[i-90:i, 0])\n",
        "X_teste=np.array(X_teste)\n",
        "X_teste = np.reshape(X_teste, (X_teste.shape[0], X_teste.shape[1], 1))\n",
        "previsoes = regressor.predict(X_teste)"
      ],
      "metadata": {
        "colab": {
          "base_uri": "https://localhost:8080/"
        },
        "id": "lrESI0j0ACg_",
        "outputId": "bac7a075-9ab9-490b-d609-3690c48c1cd2"
      },
      "execution_count": null,
      "outputs": [
        {
          "output_type": "stream",
          "name": "stdout",
          "text": [
            "1/1 [==============================] - 2s 2s/step\n"
          ]
        }
      ]
    },
    {
      "cell_type": "code",
      "source": [
        "previsoes= normalizador.inverse_transform(previsoes)"
      ],
      "metadata": {
        "id": "Qo7YJPJd__E6"
      },
      "execution_count": null,
      "outputs": []
    },
    {
      "cell_type": "code",
      "source": [
        "previsoes.mean(), preco_real_teste.mean()"
      ],
      "metadata": {
        "colab": {
          "base_uri": "https://localhost:8080/"
        },
        "id": "8jHzQY-VA9P1",
        "outputId": "edab77f6-3359-4a07-f87f-2a0b58c21077"
      },
      "execution_count": null,
      "outputs": [
        {
          "output_type": "execute_result",
          "data": {
            "text/plain": [
              "(17.358469, 17.87454563636364)"
            ]
          },
          "metadata": {},
          "execution_count": 51
        }
      ]
    },
    {
      "cell_type": "markdown",
      "source": [
        "#Gráficos"
      ],
      "metadata": {
        "id": "TaLEdJH7BTE6"
      }
    },
    {
      "cell_type": "code",
      "source": [
        "plt.plot(preco_real_teste, color='red', label = 'Preco real')\n",
        "plt.plot(previsoes, color='blue', label = 'Previsões')\n",
        "plt.title('Previsão preço das ações')\n",
        "plt.xlabel('Tempo')\n",
        "plt.ylabel('Valor Yahoo')\n",
        "plt.legend()\n",
        "plt.show()"
      ],
      "metadata": {
        "colab": {
          "base_uri": "https://localhost:8080/"
        },
        "id": "FjY--0W6BDO2",
        "outputId": "5f103818-3d94-482f-d241-3111b7113232"
      },
      "execution_count": null,
      "outputs": [
        {
          "output_type": "display_data",
          "data": {
            "text/plain": [
              "<Figure size 640x480 with 1 Axes>"
            ],
            "image/png": "[encoded data removed]"
          },
          "metadata": {}
        }
      ]
    },
    {
      "cell_type": "code",
      "source": [],
      "metadata": {
        "id": "opbOrmJVB3Lm"
      },
      "execution_count": null,
      "outputs": []
    }
  ]
}